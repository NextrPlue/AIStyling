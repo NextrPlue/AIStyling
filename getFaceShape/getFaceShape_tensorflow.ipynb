{
 "cells": [
  {
   "cell_type": "code",
   "execution_count": 2,
   "metadata": {},
   "outputs": [],
   "source": [
    "from keras.applications.vgg16 import preprocess_input\n",
    "from keras.models import load_model\n",
    "from PIL import Image\n",
    "import numpy as np\n",
    "\n",
    "img_path = 'img.jpg'\n",
    "\n",
    "img = Image.open(img_path).resize((224,224))\n",
    "arr = np.asarray(img)\n",
    "arr = np.expand_dims(arr, axis=0)\n",
    "x = preprocess_input(arr)\n",
    "\n",
    "model = load_model('new_face_classifier.h5')"
   ]
  },
  {
   "cell_type": "code",
   "execution_count": 3,
   "metadata": {},
   "outputs": [
    {
     "name": "stdout",
     "output_type": "stream",
     "text": [
      "1/1 [==============================] - 1s 550ms/step\n",
      "Heart : 1, Oblong : 2, Oval : 3, Round : 4, Square : 5\n",
      "0.34519538\n",
      "2\n"
     ]
    }
   ],
   "source": [
    "result = model.predict(x)\n",
    "print('Heart : 1, Oblong : 2, Oval : 3, Round : 4, Square : 5')\n",
    "print(result[0].max())\n",
    "print(result[0].argmax() + 1)"
   ]
  }
 ],
 "metadata": {
  "kernelspec": {
   "display_name": "capstone",
   "language": "python",
   "name": "python3"
  },
  "language_info": {
   "codemirror_mode": {
    "name": "ipython",
    "version": 3
   },
   "file_extension": ".py",
   "mimetype": "text/x-python",
   "name": "python",
   "nbconvert_exporter": "python",
   "pygments_lexer": "ipython3",
   "version": "3.9.18"
  }
 },
 "nbformat": 4,
 "nbformat_minor": 2
}
